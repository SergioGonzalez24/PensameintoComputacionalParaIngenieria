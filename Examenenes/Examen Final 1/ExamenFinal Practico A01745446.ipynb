{
 "cells": [
  {
   "cell_type": "markdown",
   "metadata": {},
   "source": [
    "![](tec1.jpg)\n",
    "\n",
    "# Tec de Monterrey, Campus Estado de México\n",
    "## Examen 1, parte práctica\n",
    "## TC1028.415 Pensamiento Computacional\n",
    "\n",
    "### Dr. Armando Fabián Lugo Peñaloza\n",
    "### Alumno: Nombre_completo\n",
    "Se entiende por [Integridad Académica](http://sitios.itesm.mx/dfds/ssc/Alumnos/contenido/integridad.html) el actuar honesto, comprometido, confiable, responsable, justo, respetuoso en el aprendizaje, la investigación y la difusión de la cultura. Son faltas a la Integridad \n",
    "Académica todas aquellas acciones individuales o colectivas de los alumnos \n",
    "que se cometan dentro o fuera del salón de clases, y \n",
    "que atenten contra dichos principios. Algunos ejemplos de este tipo de acciones indebidas son la copia o tentativa de copia en cualquier tipo  de  examen  o  actividad  de  aprendizaje;  el  plagio  parcial  o  total;  facilitar  alguna  actividad  o material para que sea copiada y/o presentada como propia; la suplantación de identidad; acceder y/o manipular, sin autorización expresa, cuentas de correo electrónico o sistemas institucionales; falsear  información;  alterar  documentos  académicos;  vender  o  comprar  exámenes  o  distribuirlos mediante  cualquier modalidad;  hurtar  información o intentar  sobornar  a  un  profesor o  cualquier colaborador de la institución; y la alteración indebida de expedientes clínicos, entre otras acciones más."
   ]
  },
  {
   "cell_type": "markdown",
   "metadata": {},
   "source": [
    "### Problema 1\n",
    "\n",
    "Haga un programa con funciones en Python que reciba una lista, que cree una copia en la que solo deje aquellos elementos que sean divisibles por 3 y que estén en una posición (índice) par. Al final deberá mostrar la lista original y la copia modificada siempre que el número de elementos de la lista sea mayor que 0, en caso contrario solo regresará `0`."
   ]
  },
  {
   "cell_type": "code",
   "execution_count": 9,
   "metadata": {},
   "outputs": [
    {
     "name": "stdout",
     "output_type": "stream",
     "text": [
      "[3, -2, 2, 5, 6, 12, 15, 2, 4]\n",
      "[3, 6, 15]\n"
     ]
    }
   ],
   "source": [
    "def divisibles3 (lista):\n",
    "    copylist=[]\n",
    "    len(lista)\n",
    "    for pos in range (len(lista)):\n",
    "        if pos%2==0:\n",
    "            copylist.append(lista[pos])\n",
    "    for element in copylist:\n",
    "        if not(element%3==0):\n",
    "            q=copylist.index(element)\n",
    "            copylist.pop(q)\n",
    "\n",
    "    if len(copylist)>0:\n",
    "        print(lista)\n",
    "        print(copylist)\n",
    "    else:\n",
    "        return 0\n",
    "            \n",
    "list1=[3,-2,2,5,6,12,15,2,4]\n",
    "divisibles3(list1)"
   ]
  },
  {
   "cell_type": "markdown",
   "metadata": {},
   "source": [
    "### Problema 2\n",
    "\n",
    "Realice un programa en Python que reciba un texto de varias líneas, que genere una copia del texto, en la que al final de cada línea debe agregarse el número de palabras en la línea y el número de vocales y espacios, sin importar si dichas vocales están en mayúscula, minúscula o acentuados. Al final debe mostrar el texto modificado."
   ]
  },
  {
   "cell_type": "code",
   "execution_count": null,
   "metadata": {},
   "outputs": [],
   "source": []
  },
  {
   "cell_type": "code",
   "execution_count": 1,
   "metadata": {},
   "outputs": [],
   "source": [
    "textoin=('''Hola me llamo juan\n",
    "tengo 20 años\n",
    "soy de jalisco''')\n",
    "\n",
    "sep=(\"\\n\")\n",
    "\n",
    "textosep=textoin.split(sep)\n",
    "newlist=list(textosep)\n",
    "for i in range (len(newlist)):\n",
    "    a=newlist[i]\n"
   ]
  },
  {
   "cell_type": "code",
   "execution_count": null,
   "metadata": {},
   "outputs": [],
   "source": []
  }
 ],
 "metadata": {
  "kernelspec": {
   "display_name": "Python 3",
   "language": "python",
   "name": "python3"
  },
  "language_info": {
   "codemirror_mode": {
    "name": "ipython",
    "version": 3
   },
   "file_extension": ".py",
   "mimetype": "text/x-python",
   "name": "python",
   "nbconvert_exporter": "python",
   "pygments_lexer": "ipython3",
   "version": "3.8.3"
  }
 },
 "nbformat": 4,
 "nbformat_minor": 4
}
